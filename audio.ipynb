{
 "cells": [
  {
   "cell_type": "code",
   "execution_count": 23,
   "metadata": {},
   "outputs": [],
   "source": [
    "from preprocess import *\n",
    "import keras\n",
    "from keras.models import Sequential\n",
    "from keras.layers import Dense, Dropout, Flatten, Conv2D, MaxPooling2D, LSTM\n",
    "from keras.utils import to_categorical\n",
    "import matplotlib.pyplot as plt\n",
    "import os"
   ]
  },
  {
   "cell_type": "code",
   "execution_count": 24,
   "metadata": {},
   "outputs": [],
   "source": [
    "DATA_PATH = \"./all/\""
   ]
  },
  {
   "cell_type": "code",
   "execution_count": 35,
   "metadata": {},
   "outputs": [],
   "source": [
    "def get_labels(path=DATA_PATH):\n",
    "    labels = os.listdir(path)\n",
    "    label_indices = np.arange(0, len(labels))\n",
    "    return labels, label_indices, to_categorical(label_indices)\n",
    "\n",
    "\n",
    "def wav2mfcc(file_path, n_mfcc=20, max_len=11):\n",
    "    wave, sr = librosa.load(file_path, mono=True, sr=None)\n",
    "    wave = np.asfortranarray(wave[::3])\n",
    "    mfcc = librosa.feature.mfcc(wave, sr=16000, n_mfcc=n_mfcc)\n",
    "\n",
    "    # If maximum length exceeds mfcc lengths then pad the remaining ones\n",
    "    if (max_len > mfcc.shape[1]):\n",
    "        pad_width = max_len - mfcc.shape[1]\n",
    "        mfcc = np.pad(mfcc, pad_width=((0, 0), (0, pad_width)), mode='constant')\n",
    "\n",
    "    # Else cutoff the remaining parts\n",
    "    else:\n",
    "        mfcc = mfcc[:, :max_len]\n",
    "    \n",
    "    return mfcc\n",
    "\n",
    "def save_data_to_array(path=DATA_PATH, max_len=30, n_mfcc=20):\n",
    "    labels, _, _ = get_labels(path)\n",
    "    mfcc_vectors = []\n",
    "    for label in labels:\n",
    "        print(label)     \n",
    "\n",
    "        wavfiles = [path + label + '/' + wavfile for wavfile in os.listdir(path + '/' + label)]\n",
    "        for wavfile in tqdm(wavfiles, \"Saving vectors of label - '{}'\".format(label)):\n",
    "            mfcc = wav2mfcc(wavfile, max_len=max_len, n_mfcc=n_mfcc)\n",
    "            mfcc_vectors.append(mfcc)\n",
    "    np.save('mfccs.npy', mfcc_vectors)"
   ]
  },
  {
   "cell_type": "code",
   "execution_count": 36,
   "metadata": {
    "scrolled": true
   },
   "outputs": [
    {
     "name": "stderr",
     "output_type": "stream",
     "text": [
      "Saving vectors of label - 'can ho':   3%|█▏                                          | 14/532 [00:00<00:03, 134.61it/s]"
     ]
    },
    {
     "name": "stdout",
     "output_type": "stream",
     "text": [
      "can ho\n"
     ]
    },
    {
     "name": "stderr",
     "output_type": "stream",
     "text": [
      "Saving vectors of label - 'can ho': 100%|███████████████████████████████████████████| 532/532 [00:04<00:00, 125.44it/s]\n",
      "Saving vectors of label - 'canh sat':   1%|▍                                           | 6/556 [00:00<00:10, 53.09it/s]"
     ]
    },
    {
     "name": "stdout",
     "output_type": "stream",
     "text": [
      "canh sat\n"
     ]
    },
    {
     "name": "stderr",
     "output_type": "stream",
     "text": [
      "Saving vectors of label - 'canh sat': 100%|█████████████████████████████████████████| 556/556 [00:03<00:00, 181.88it/s]\n",
      "Saving vectors of label - 'com':   2%|▊                                               | 10/550 [00:00<00:05, 95.90it/s]"
     ]
    },
    {
     "name": "stdout",
     "output_type": "stream",
     "text": [
      "com\n"
     ]
    },
    {
     "name": "stderr",
     "output_type": "stream",
     "text": [
      "Saving vectors of label - 'com': 100%|██████████████████████████████████████████████| 550/550 [00:04<00:00, 129.28it/s]\n",
      "Saving vectors of label - 'hoc sinh':   2%|▋                                           | 8/531 [00:00<00:06, 77.66it/s]"
     ]
    },
    {
     "name": "stdout",
     "output_type": "stream",
     "text": [
      "hoc sinh\n"
     ]
    },
    {
     "name": "stderr",
     "output_type": "stream",
     "text": [
      "Saving vectors of label - 'hoc sinh': 100%|█████████████████████████████████████████| 531/531 [00:04<00:00, 126.71it/s]\n",
      "Saving vectors of label - 'nguoi':   3%|█▏                                           | 14/529 [00:00<00:03, 136.29it/s]"
     ]
    },
    {
     "name": "stdout",
     "output_type": "stream",
     "text": [
      "nguoi\n"
     ]
    },
    {
     "name": "stderr",
     "output_type": "stream",
     "text": [
      "Saving vectors of label - 'nguoi': 100%|████████████████████████████████████████████| 529/529 [00:02<00:00, 197.66it/s]\n"
     ]
    }
   ],
   "source": [
    "lb_list = save_data_to_array(DATA_PATH)"
   ]
  },
  {
   "cell_type": "code",
   "execution_count": 21,
   "metadata": {},
   "outputs": [
    {
     "data": {
      "text/plain": [
       "(2698, 20, 11)"
      ]
     },
     "execution_count": 21,
     "metadata": {},
     "output_type": "execute_result"
    }
   ],
   "source": [
    "import numpy as np\n",
    "\n",
    "mfccs = np.load('mfccs.npy')\n",
    "mfccs.shape"
   ]
  },
  {
   "cell_type": "code",
   "execution_count": 2,
   "metadata": {},
   "outputs": [
    {
     "name": "stderr",
     "output_type": "stream",
     "text": [
      "Saving vectors of label - 'bed': 100%|█████████████████████████████████████████████| 1713/1713 [00:34<00:00, 49.87it/s]\n",
      "Saving vectors of label - 'cat': 100%|█████████████████████████████████████████████| 1733/1733 [00:20<00:00, 83.77it/s]\n",
      "Saving vectors of label - 'happy': 100%|███████████████████████████████████████████| 1742/1742 [00:22<00:00, 76.59it/s]\n"
     ]
    }
   ],
   "source": [
    "max_len = 11\n",
    "buckets = 20\n",
    "\n",
    "# Save data to array file first\n",
    "save_data_to_array(max_len=max_len, n_mfcc=buckets)\n",
    "\n",
    "labels=[\"bed\", \"happy\", \"cat\"]"
   ]
  },
  {
   "cell_type": "code",
   "execution_count": 3,
   "metadata": {},
   "outputs": [
    {
     "data": {
      "text/plain": [
       "(20, 11)"
      ]
     },
     "execution_count": 3,
     "metadata": {},
     "output_type": "execute_result"
    }
   ],
   "source": [
    "X = np.load(labels[0] + '.npy')\n",
    "y = np.zeros(X.shape[0])\n",
    "X[1].shape"
   ]
  },
  {
   "cell_type": "code",
   "execution_count": 4,
   "metadata": {},
   "outputs": [],
   "source": [
    "# # Loading train set and test set\n",
    "X_train, X_test, y_train, y_test = get_train_test()"
   ]
  },
  {
   "cell_type": "code",
   "execution_count": 5,
   "metadata": {},
   "outputs": [],
   "source": [
    "# # Feature dimension\n",
    "channels = 1\n",
    "epochs = 50\n",
    "batch_size = 100\n",
    "\n",
    "num_classes = 3\n",
    "\n",
    "X_train = X_train.reshape(X_train.shape[0], buckets, max_len, channels)\n",
    "X_test = X_test.reshape(X_test.shape[0], buckets, max_len, channels)"
   ]
  },
  {
   "cell_type": "code",
   "execution_count": 6,
   "metadata": {},
   "outputs": [
    {
     "name": "stdout",
     "output_type": "stream",
     "text": [
      "0.0\n"
     ]
    },
    {
     "data": {
      "image/png": "[encoded data removed]",
      "text/plain": [
       "<Figure size 432x288 with 1 Axes>"
      ]
     },
     "metadata": {
      "needs_background": "light"
     },
     "output_type": "display_data"
    }
   ],
   "source": [
    "plt.imshow(X_train[100, :, :, 0])\n",
    "print(y_train[100])"
   ]
  },
  {
   "cell_type": "code",
   "execution_count": 7,
   "metadata": {},
   "outputs": [],
   "source": [
    "y_train_hot = to_categorical(y_train)\n",
    "y_test_hot = to_categorical(y_test)"
   ]
  },
  {
   "cell_type": "code",
   "execution_count": 8,
   "metadata": {},
   "outputs": [],
   "source": [
    "\n",
    "X_train = X_train.reshape(X_train.shape[0], buckets, max_len)\n",
    "X_test = X_test.reshape(X_test.shape[0], buckets, max_len)\n",
    "\n",
    "model = Sequential()\n",
    "model.add(Flatten(input_shape=(buckets, max_len)))\n",
    "model.add(Dense(num_classes, activation='softmax'))\n",
    "model.compile(loss=\"categorical_crossentropy\",\n",
    "                  optimizer=\"adam\",\n",
    "                  metrics=['accuracy'])"
   ]
  },
  {
   "cell_type": "code",
   "execution_count": 9,
   "metadata": {},
   "outputs": [
    {
     "name": "stdout",
     "output_type": "stream",
     "text": [
      "Epoch 1/50\n",
      "98/98 [==============================] - 1s 6ms/step - loss: 28.1429 - accuracy: 0.4240 - val_loss: 8.1761 - val_accuracy: 0.6127\n",
      "Epoch 2/50\n",
      "98/98 [==============================] - 0s 2ms/step - loss: 7.0498 - accuracy: 0.6226 - val_loss: 5.3471 - val_accuracy: 0.6816\n",
      "Epoch 3/50\n",
      "98/98 [==============================] - 0s 2ms/step - loss: 4.9180 - accuracy: 0.6835 - val_loss: 4.3713 - val_accuracy: 0.7139\n",
      "Epoch 4/50\n",
      "98/98 [==============================] - 0s 2ms/step - loss: 3.8220 - accuracy: 0.7237 - val_loss: 3.8164 - val_accuracy: 0.7259\n",
      "Epoch 5/50\n",
      "98/98 [==============================] - 0s 2ms/step - loss: 3.3358 - accuracy: 0.7416 - val_loss: 3.4691 - val_accuracy: 0.7433\n",
      "Epoch 6/50\n",
      "98/98 [==============================] - 0s 2ms/step - loss: 3.0388 - accuracy: 0.7549 - val_loss: 3.7075 - val_accuracy: 0.7206\n",
      "Epoch 7/50\n",
      "98/98 [==============================] - 0s 2ms/step - loss: 2.8306 - accuracy: 0.7457 - val_loss: 3.1684 - val_accuracy: 0.7486\n",
      "Epoch 8/50\n",
      "98/98 [==============================] - 0s 2ms/step - loss: 2.6227 - accuracy: 0.7635 - val_loss: 2.7881 - val_accuracy: 0.7592\n",
      "Epoch 9/50\n",
      "98/98 [==============================] - 0s 2ms/step - loss: 2.1671 - accuracy: 0.7834 - val_loss: 2.6631 - val_accuracy: 0.7481\n",
      "Epoch 10/50\n",
      "98/98 [==============================] - 0s 2ms/step - loss: 2.1428 - accuracy: 0.7794 - val_loss: 2.5327 - val_accuracy: 0.7577\n",
      "Epoch 11/50\n",
      "98/98 [==============================] - 0s 2ms/step - loss: 1.8562 - accuracy: 0.7874 - val_loss: 2.4443 - val_accuracy: 0.7505\n",
      "Epoch 12/50\n",
      "98/98 [==============================] - 0s 2ms/step - loss: 1.9685 - accuracy: 0.7601 - val_loss: 2.3133 - val_accuracy: 0.7495\n",
      "Epoch 13/50\n",
      "98/98 [==============================] - 0s 2ms/step - loss: 1.8624 - accuracy: 0.7743 - val_loss: 2.2581 - val_accuracy: 0.7510\n",
      "Epoch 14/50\n",
      "98/98 [==============================] - 0s 2ms/step - loss: 1.6931 - accuracy: 0.7631 - val_loss: 2.0791 - val_accuracy: 0.7476\n",
      "Epoch 15/50\n",
      "98/98 [==============================] - 0s 2ms/step - loss: 1.3795 - accuracy: 0.7968 - val_loss: 1.8783 - val_accuracy: 0.7510\n",
      "Epoch 16/50\n",
      "98/98 [==============================] - 0s 2ms/step - loss: 1.3603 - accuracy: 0.7975 - val_loss: 1.8163 - val_accuracy: 0.7558\n",
      "Epoch 17/50\n",
      "98/98 [==============================] - 0s 2ms/step - loss: 1.3726 - accuracy: 0.7979 - val_loss: 1.7455 - val_accuracy: 0.7567\n",
      "Epoch 18/50\n",
      "98/98 [==============================] - 0s 2ms/step - loss: 1.2006 - accuracy: 0.8110 - val_loss: 1.6771 - val_accuracy: 0.7625\n",
      "Epoch 19/50\n",
      "98/98 [==============================] - 0s 2ms/step - loss: 1.2964 - accuracy: 0.8003 - val_loss: 1.8282 - val_accuracy: 0.7524\n",
      "Epoch 20/50\n",
      "98/98 [==============================] - 0s 2ms/step - loss: 1.3715 - accuracy: 0.7885 - val_loss: 1.7786 - val_accuracy: 0.7505\n",
      "Epoch 21/50\n",
      "98/98 [==============================] - 0s 2ms/step - loss: 1.2144 - accuracy: 0.7895 - val_loss: 1.4821 - val_accuracy: 0.7587\n",
      "Epoch 22/50\n",
      "98/98 [==============================] - 0s 2ms/step - loss: 1.0523 - accuracy: 0.7956 - val_loss: 1.4676 - val_accuracy: 0.7582\n",
      "Epoch 23/50\n",
      "98/98 [==============================] - 0s 3ms/step - loss: 1.0825 - accuracy: 0.7888 - val_loss: 1.4237 - val_accuracy: 0.7529\n",
      "Epoch 24/50\n",
      "98/98 [==============================] - 0s 2ms/step - loss: 1.0547 - accuracy: 0.7929 - val_loss: 1.4090 - val_accuracy: 0.7630\n",
      "Epoch 25/50\n",
      "98/98 [==============================] - 0s 2ms/step - loss: 1.0481 - accuracy: 0.7839 - val_loss: 1.3173 - val_accuracy: 0.7625\n",
      "Epoch 26/50\n",
      "98/98 [==============================] - 0s 2ms/step - loss: 1.0953 - accuracy: 0.7853 - val_loss: 1.2714 - val_accuracy: 0.7693\n",
      "Epoch 27/50\n",
      "98/98 [==============================] - 0s 2ms/step - loss: 0.8764 - accuracy: 0.8140 - val_loss: 1.2894 - val_accuracy: 0.7664\n",
      "Epoch 28/50\n",
      "98/98 [==============================] - 0s 2ms/step - loss: 0.8591 - accuracy: 0.8033 - val_loss: 1.2461 - val_accuracy: 0.7616\n",
      "Epoch 29/50\n",
      "98/98 [==============================] - 0s 2ms/step - loss: 0.9784 - accuracy: 0.7939 - val_loss: 1.4429 - val_accuracy: 0.7423\n",
      "Epoch 30/50\n",
      "98/98 [==============================] - 0s 2ms/step - loss: 0.8858 - accuracy: 0.7926 - val_loss: 1.1612 - val_accuracy: 0.7611\n",
      "Epoch 31/50\n",
      "98/98 [==============================] - 0s 2ms/step - loss: 0.8142 - accuracy: 0.8124 - val_loss: 1.1817 - val_accuracy: 0.7688\n",
      "Epoch 32/50\n",
      "98/98 [==============================] - 0s 2ms/step - loss: 0.8913 - accuracy: 0.7973 - val_loss: 1.3385 - val_accuracy: 0.7577\n",
      "Epoch 33/50\n",
      "98/98 [==============================] - 0s 2ms/step - loss: 0.9113 - accuracy: 0.8008 - val_loss: 1.2848 - val_accuracy: 0.7543\n",
      "Epoch 34/50\n",
      "98/98 [==============================] - 0s 2ms/step - loss: 0.8793 - accuracy: 0.7943 - val_loss: 1.1344 - val_accuracy: 0.7702\n",
      "Epoch 35/50\n",
      "98/98 [==============================] - 0s 2ms/step - loss: 0.8690 - accuracy: 0.8057 - val_loss: 1.2762 - val_accuracy: 0.7370\n",
      "Epoch 36/50\n",
      "98/98 [==============================] - 0s 2ms/step - loss: 0.8386 - accuracy: 0.8006 - val_loss: 1.2968 - val_accuracy: 0.7408\n",
      "Epoch 37/50\n",
      "98/98 [==============================] - 0s 2ms/step - loss: 0.8360 - accuracy: 0.7997 - val_loss: 1.1565 - val_accuracy: 0.7548\n",
      "Epoch 38/50\n",
      "98/98 [==============================] - 0s 2ms/step - loss: 0.8261 - accuracy: 0.8013 - val_loss: 1.2104 - val_accuracy: 0.7500\n",
      "Epoch 39/50\n",
      "98/98 [==============================] - 0s 2ms/step - loss: 0.8262 - accuracy: 0.7997 - val_loss: 1.2876 - val_accuracy: 0.7408\n",
      "Epoch 40/50\n",
      "98/98 [==============================] - 0s 2ms/step - loss: 0.8424 - accuracy: 0.7944 - val_loss: 1.0636 - val_accuracy: 0.7673\n",
      "Epoch 41/50\n",
      "98/98 [==============================] - 0s 2ms/step - loss: 0.8462 - accuracy: 0.7876 - val_loss: 1.0557 - val_accuracy: 0.7818\n",
      "Epoch 42/50\n",
      "98/98 [==============================] - 0s 2ms/step - loss: 0.7886 - accuracy: 0.8065 - val_loss: 1.0168 - val_accuracy: 0.7717\n",
      "Epoch 43/50\n",
      "98/98 [==============================] - 0s 2ms/step - loss: 0.7606 - accuracy: 0.8078 - val_loss: 1.0724 - val_accuracy: 0.7572\n",
      "Epoch 44/50\n",
      "98/98 [==============================] - 0s 2ms/step - loss: 0.7164 - accuracy: 0.8015 - val_loss: 1.0865 - val_accuracy: 0.7654\n",
      "Epoch 45/50\n",
      "98/98 [==============================] - 0s 2ms/step - loss: 0.7290 - accuracy: 0.8076 - val_loss: 1.0730 - val_accuracy: 0.7635\n",
      "Epoch 46/50\n",
      "98/98 [==============================] - 0s 2ms/step - loss: 0.8907 - accuracy: 0.7816 - val_loss: 1.1393 - val_accuracy: 0.7476\n",
      "Epoch 47/50\n",
      "98/98 [==============================] - 0s 2ms/step - loss: 0.8967 - accuracy: 0.7900 - val_loss: 1.2133 - val_accuracy: 0.7563\n",
      "Epoch 48/50\n",
      "98/98 [==============================] - 0s 2ms/step - loss: 0.7845 - accuracy: 0.8107 - val_loss: 1.1475 - val_accuracy: 0.7659\n",
      "Epoch 49/50\n",
      "98/98 [==============================] - 0s 2ms/step - loss: 0.8033 - accuracy: 0.7998 - val_loss: 1.0557 - val_accuracy: 0.7659\n",
      "Epoch 50/50\n",
      "98/98 [==============================] - 0s 2ms/step - loss: 0.7834 - accuracy: 0.8010 - val_loss: 1.1081 - val_accuracy: 0.7620\n"
     ]
    },
    {
     "data": {
      "text/plain": [
       "<tensorflow.python.keras.callbacks.History at 0x1f0540f0f88>"
      ]
     },
     "execution_count": 9,
     "metadata": {},
     "output_type": "execute_result"
    }
   ],
   "source": [
    "model.fit(X_train, y_train_hot, epochs=epochs, validation_data=(X_test, y_test_hot))"
   ]
  },
  {
   "cell_type": "code",
   "execution_count": 10,
   "metadata": {
    "scrolled": true
   },
   "outputs": [
    {
     "name": "stdout",
     "output_type": "stream",
     "text": [
      "Model: \"sequential\"\n",
      "_________________________________________________________________\n",
      "Layer (type)                 Output Shape              Param #   \n",
      "=================================================================\n",
      "flatten (Flatten)            (None, 220)               0         \n",
      "_________________________________________________________________\n",
      "dense (Dense)                (None, 3)                 663       \n",
      "=================================================================\n",
      "Total params: 663\n",
      "Trainable params: 663\n",
      "Non-trainable params: 0\n",
      "_________________________________________________________________\n"
     ]
    }
   ],
   "source": [
    "model.summary()"
   ]
  },
  {
   "cell_type": "code",
   "execution_count": 39,
   "metadata": {},
   "outputs": [
    {
     "data": {
      "text/plain": [
       "10.829506314580941"
      ]
     },
     "execution_count": 39,
     "metadata": {},
     "output_type": "execute_result"
    }
   ],
   "source": [
    "import os \n",
    "\n",
    "paths = os.listdir('data/happy/')\n",
    "len_list = []\n",
    "\n",
    "for path in paths:\n",
    "    wave, sr = librosa.load('data/happy/' + path, mono=True, sr=None)\n",
    "    wave = np.asfortranarray(wave[::3])\n",
    "    mfcc = librosa.feature.mfcc(wave, sr=16000, n_mfcc=20)\n",
    "    len_list.append(mfcc.shape[1])\n",
    "    \n",
    "sum(len_list)/len(len_list)"
   ]
  }
 ],
 "metadata": {
  "kernelspec": {
   "display_name": "Python 3",
   "language": "python",
   "name": "python3"
  },
  "language_info": {
   "codemirror_mode": {
    "name": "ipython",
    "version": 3
   },
   "file_extension": ".py",
   "mimetype": "text/x-python",
   "name": "python",
   "nbconvert_exporter": "python",
   "pygments_lexer": "ipython3",
   "version": "3.7.6"
  }
 },
 "nbformat": 4,
 "nbformat_minor": 2
}
